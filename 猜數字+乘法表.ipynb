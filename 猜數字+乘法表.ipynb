{
  "nbformat": 4,
  "nbformat_minor": 0,
  "metadata": {
    "colab": {
      "provenance": []
    },
    "kernelspec": {
      "name": "python3",
      "display_name": "Python 3"
    },
    "language_info": {
      "name": "python"
    }
  },
  "cells": [
    {
      "cell_type": "code",
      "execution_count": 8,
      "metadata": {
        "colab": {
          "base_uri": "https://localhost:8080/"
        },
        "id": "WUmLYYg_CYMp",
        "outputId": "00f2ffc0-6ff2-45e2-97e5-a5480834bf24"
      },
      "outputs": [
        {
          "output_type": "stream",
          "name": "stdout",
          "text": [
            "1,93\n",
            "1 x 1 = 1\n",
            "1 x 2 = 2\n",
            "1 x 3 = 3\n",
            "2 x 1 = 2\n",
            "2 x 2 = 4\n",
            "2 x 3 = 6\n",
            "3 x 1 = 3\n",
            "3 x 2 = 6\n",
            "3 x 3 = 9\n"
          ]
        }
      ],
      "source": [
        "num = int(input(\"1,9\"))\n",
        "for i in range(1, num + 1):\n",
        "    for j in range(1, num + 1):\n",
        "        result = i * j\n",
        "        print(f\"{i} x {j} = {result}\")"
      ]
    },
    {
      "cell_type": "code",
      "source": [
        "import random\n",
        "\n",
        "target_number = random.randint(1, 100)\n",
        "print(\"歡迎參加猜數字遊戲\")\n",
        "attempts = 0\n",
        "\n",
        "while True:\n",
        "    user_guess = int(input(\"請猜一個1到100之間的數字：\"))\n",
        "    attempts += 1\n",
        "\n",
        "    if user_guess < target_number:\n",
        "        print(\"太低了，再試一次。\")\n",
        "    elif user_guess > target_number:\n",
        "        print(\"太高了，再試一次。\")\n",
        "    else:\n",
        "        print(f\"恭喜！你猜對了，目標數字是 {target_number}。你一共猜了 {attempts} 次。\")\n",
        "        print(\"遊戲結束\")\n",
        "        break\n",
        ""
      ],
      "metadata": {
        "colab": {
          "base_uri": "https://localhost:8080/"
        },
        "id": "MFt5tMjRDCZ6",
        "outputId": "0a0cf20d-557f-419b-e330-c5682b0dbef0"
      },
      "execution_count": 13,
      "outputs": [
        {
          "output_type": "stream",
          "name": "stdout",
          "text": [
            "歡迎參加猜數字遊戲\n",
            "請猜一個1到100之間的數字：50\n",
            "太低了，再試一次。\n",
            "請猜一個1到100之間的數字：60\n",
            "太低了，再試一次。\n",
            "請猜一個1到100之間的數字：70\n",
            "太低了，再試一次。\n",
            "請猜一個1到100之間的數字：80\n",
            "太低了，再試一次。\n",
            "請猜一個1到100之間的數字：90\n",
            "太低了，再試一次。\n",
            "請猜一個1到100之間的數字：95\n",
            "太高了，再試一次。\n",
            "請猜一個1到100之間的數字：93\n",
            "太高了，再試一次。\n",
            "請猜一個1到100之間的數字：92\n",
            "恭喜！你猜對了，目標數字是 92。你一共猜了 8 次。\n",
            "遊戲結束\n"
          ]
        }
      ]
    },
    {
      "cell_type": "code",
      "source": [],
      "metadata": {
        "id": "Ub_tThzbCckB"
      },
      "execution_count": null,
      "outputs": []
    }
  ]
}